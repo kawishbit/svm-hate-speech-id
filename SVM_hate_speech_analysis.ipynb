{
  "cells": [
    {
      "cell_type": "markdown",
      "id": "3ab735f4",
      "metadata": {
        "id": "3ab735f4"
      },
      "source": [
        "Install required packages"
      ]
    },
    {
      "cell_type": "code",
      "execution_count": null,
      "id": "7c9d6785",
      "metadata": {
        "id": "7c9d6785"
      },
      "outputs": [],
      "source": [
        "!pip install Sastrawi --quiet\n",
        "!pip install tensorflow --quiet"
      ]
    },
    {
      "cell_type": "markdown",
      "id": "855937c3",
      "metadata": {
        "id": "855937c3"
      },
      "source": [
        "Import required packages"
      ]
    },
    {
      "cell_type": "code",
      "execution_count": null,
      "id": "faef0d3a",
      "metadata": {
        "id": "faef0d3a"
      },
      "outputs": [],
      "source": [
        "import numpy as np\n",
        "import pandas as pd\n",
        "\n",
        "from sklearn.feature_extraction.text import CountVectorizer\n",
        "from keras_preprocessing.text import Tokenizer\n",
        "from keras_preprocessing.sequence import pad_sequences\n",
        "from keras.models import Sequential\n",
        "from keras.layers import Dense, Embedding, LSTM, SpatialDropout1D\n",
        "from sklearn.model_selection import train_test_split\n",
        "from keras.utils.np_utils import to_categorical\n",
        "from sklearn.utils import resample\n",
        "from sklearn.utils import shuffle\n",
        "from sklearn.metrics import confusion_matrix,classification_report\n",
        "import re, io, json\n",
        "from tensorflow.keras.callbacks import ModelCheckpoint   # save model\n",
        "from tensorflow.keras.models import load_model   # load saved model\n",
        "from tensorflow.keras.preprocessing.text import tokenizer_from_json\n",
        "\n",
        "# Indonesian Stemmer\n",
        "from Sastrawi.Stemmer.StemmerFactory import StemmerFactory"
      ]
    },
    {
      "cell_type": "markdown",
      "id": "913e5256",
      "metadata": {
        "id": "913e5256"
      },
      "source": [
        "Load dataset"
      ]
    },
    {
      "cell_type": "code",
      "execution_count": null,
      "id": "30affba3",
      "metadata": {
        "id": "30affba3",
        "outputId": "2a51932d-91f2-4431-ec19-33ddbbe3ac54",
        "colab": {
          "base_uri": "https://localhost:8080/",
          "height": 363
        }
      },
      "outputs": [
        {
          "output_type": "execute_result",
          "data": {
            "text/plain": [
              "                                               Tweet  HS\n",
              "0  - disaat semua cowok berusaha melacak perhatia...   1\n",
              "1  RT USER: USER siapa yang telat ngasih tau elu?...   0\n",
              "2  41. Kadang aku berfikir, kenapa aku tetap perc...   0\n",
              "3  USER USER AKU ITU AKU\\n\\nKU TAU MATAMU SIPIT T...   0\n",
              "4  USER USER Kaum cebong kapir udah keliatan dong...   1\n",
              "5  USER Ya bani taplak dkk \\xf0\\x9f\\x98\\x84\\xf0\\x...   1\n",
              "6  deklarasi pilkada 2018 aman dan anti hoax warg...   0\n",
              "7  Gue baru aja kelar re-watch Aldnoah Zero!!! pa...   0\n",
              "8  Nah admin belanja satu lagi port terbaik nak m...   0\n",
              "9                      USER Enak lg klo smbil ngewe'   0"
            ],
            "text/html": [
              "\n",
              "  <div id=\"df-4ef8df6c-7673-4ff4-8759-b32f415479bc\">\n",
              "    <div class=\"colab-df-container\">\n",
              "      <div>\n",
              "<style scoped>\n",
              "    .dataframe tbody tr th:only-of-type {\n",
              "        vertical-align: middle;\n",
              "    }\n",
              "\n",
              "    .dataframe tbody tr th {\n",
              "        vertical-align: top;\n",
              "    }\n",
              "\n",
              "    .dataframe thead th {\n",
              "        text-align: right;\n",
              "    }\n",
              "</style>\n",
              "<table border=\"1\" class=\"dataframe\">\n",
              "  <thead>\n",
              "    <tr style=\"text-align: right;\">\n",
              "      <th></th>\n",
              "      <th>Tweet</th>\n",
              "      <th>HS</th>\n",
              "    </tr>\n",
              "  </thead>\n",
              "  <tbody>\n",
              "    <tr>\n",
              "      <th>0</th>\n",
              "      <td>- disaat semua cowok berusaha melacak perhatia...</td>\n",
              "      <td>1</td>\n",
              "    </tr>\n",
              "    <tr>\n",
              "      <th>1</th>\n",
              "      <td>RT USER: USER siapa yang telat ngasih tau elu?...</td>\n",
              "      <td>0</td>\n",
              "    </tr>\n",
              "    <tr>\n",
              "      <th>2</th>\n",
              "      <td>41. Kadang aku berfikir, kenapa aku tetap perc...</td>\n",
              "      <td>0</td>\n",
              "    </tr>\n",
              "    <tr>\n",
              "      <th>3</th>\n",
              "      <td>USER USER AKU ITU AKU\\n\\nKU TAU MATAMU SIPIT T...</td>\n",
              "      <td>0</td>\n",
              "    </tr>\n",
              "    <tr>\n",
              "      <th>4</th>\n",
              "      <td>USER USER Kaum cebong kapir udah keliatan dong...</td>\n",
              "      <td>1</td>\n",
              "    </tr>\n",
              "    <tr>\n",
              "      <th>5</th>\n",
              "      <td>USER Ya bani taplak dkk \\xf0\\x9f\\x98\\x84\\xf0\\x...</td>\n",
              "      <td>1</td>\n",
              "    </tr>\n",
              "    <tr>\n",
              "      <th>6</th>\n",
              "      <td>deklarasi pilkada 2018 aman dan anti hoax warg...</td>\n",
              "      <td>0</td>\n",
              "    </tr>\n",
              "    <tr>\n",
              "      <th>7</th>\n",
              "      <td>Gue baru aja kelar re-watch Aldnoah Zero!!! pa...</td>\n",
              "      <td>0</td>\n",
              "    </tr>\n",
              "    <tr>\n",
              "      <th>8</th>\n",
              "      <td>Nah admin belanja satu lagi port terbaik nak m...</td>\n",
              "      <td>0</td>\n",
              "    </tr>\n",
              "    <tr>\n",
              "      <th>9</th>\n",
              "      <td>USER Enak lg klo smbil ngewe'</td>\n",
              "      <td>0</td>\n",
              "    </tr>\n",
              "  </tbody>\n",
              "</table>\n",
              "</div>\n",
              "      <button class=\"colab-df-convert\" onclick=\"convertToInteractive('df-4ef8df6c-7673-4ff4-8759-b32f415479bc')\"\n",
              "              title=\"Convert this dataframe to an interactive table.\"\n",
              "              style=\"display:none;\">\n",
              "        \n",
              "  <svg xmlns=\"http://www.w3.org/2000/svg\" height=\"24px\"viewBox=\"0 0 24 24\"\n",
              "       width=\"24px\">\n",
              "    <path d=\"M0 0h24v24H0V0z\" fill=\"none\"/>\n",
              "    <path d=\"M18.56 5.44l.94 2.06.94-2.06 2.06-.94-2.06-.94-.94-2.06-.94 2.06-2.06.94zm-11 1L8.5 8.5l.94-2.06 2.06-.94-2.06-.94L8.5 2.5l-.94 2.06-2.06.94zm10 10l.94 2.06.94-2.06 2.06-.94-2.06-.94-.94-2.06-.94 2.06-2.06.94z\"/><path d=\"M17.41 7.96l-1.37-1.37c-.4-.4-.92-.59-1.43-.59-.52 0-1.04.2-1.43.59L10.3 9.45l-7.72 7.72c-.78.78-.78 2.05 0 2.83L4 21.41c.39.39.9.59 1.41.59.51 0 1.02-.2 1.41-.59l7.78-7.78 2.81-2.81c.8-.78.8-2.07 0-2.86zM5.41 20L4 18.59l7.72-7.72 1.47 1.35L5.41 20z\"/>\n",
              "  </svg>\n",
              "      </button>\n",
              "      \n",
              "  <style>\n",
              "    .colab-df-container {\n",
              "      display:flex;\n",
              "      flex-wrap:wrap;\n",
              "      gap: 12px;\n",
              "    }\n",
              "\n",
              "    .colab-df-convert {\n",
              "      background-color: #E8F0FE;\n",
              "      border: none;\n",
              "      border-radius: 50%;\n",
              "      cursor: pointer;\n",
              "      display: none;\n",
              "      fill: #1967D2;\n",
              "      height: 32px;\n",
              "      padding: 0 0 0 0;\n",
              "      width: 32px;\n",
              "    }\n",
              "\n",
              "    .colab-df-convert:hover {\n",
              "      background-color: #E2EBFA;\n",
              "      box-shadow: 0px 1px 2px rgba(60, 64, 67, 0.3), 0px 1px 3px 1px rgba(60, 64, 67, 0.15);\n",
              "      fill: #174EA6;\n",
              "    }\n",
              "\n",
              "    [theme=dark] .colab-df-convert {\n",
              "      background-color: #3B4455;\n",
              "      fill: #D2E3FC;\n",
              "    }\n",
              "\n",
              "    [theme=dark] .colab-df-convert:hover {\n",
              "      background-color: #434B5C;\n",
              "      box-shadow: 0px 1px 3px 1px rgba(0, 0, 0, 0.15);\n",
              "      filter: drop-shadow(0px 1px 2px rgba(0, 0, 0, 0.3));\n",
              "      fill: #FFFFFF;\n",
              "    }\n",
              "  </style>\n",
              "\n",
              "      <script>\n",
              "        const buttonEl =\n",
              "          document.querySelector('#df-4ef8df6c-7673-4ff4-8759-b32f415479bc button.colab-df-convert');\n",
              "        buttonEl.style.display =\n",
              "          google.colab.kernel.accessAllowed ? 'block' : 'none';\n",
              "\n",
              "        async function convertToInteractive(key) {\n",
              "          const element = document.querySelector('#df-4ef8df6c-7673-4ff4-8759-b32f415479bc');\n",
              "          const dataTable =\n",
              "            await google.colab.kernel.invokeFunction('convertToInteractive',\n",
              "                                                     [key], {});\n",
              "          if (!dataTable) return;\n",
              "\n",
              "          const docLinkHtml = 'Like what you see? Visit the ' +\n",
              "            '<a target=\"_blank\" href=https://colab.research.google.com/notebooks/data_table.ipynb>data table notebook</a>'\n",
              "            + ' to learn more about interactive tables.';\n",
              "          element.innerHTML = '';\n",
              "          dataTable['output_type'] = 'display_data';\n",
              "          await google.colab.output.renderOutput(dataTable, element);\n",
              "          const docLink = document.createElement('div');\n",
              "          docLink.innerHTML = docLinkHtml;\n",
              "          element.appendChild(docLink);\n",
              "        }\n",
              "      </script>\n",
              "    </div>\n",
              "  </div>\n",
              "  "
            ]
          },
          "metadata": {},
          "execution_count": 11
        }
      ],
      "source": [
        "data = pd.read_csv('https://raw.githubusercontent.com/kawishbit/svm-hate-speech-id/main/utf8_dataset.csv')\n",
        "data.dropna(subset=['Tweet'], how='all', inplace=True)\n",
        "data = data[['Tweet','HS']]\n",
        "data.head(10)"
      ]
    },
    {
      "cell_type": "markdown",
      "id": "aab48935",
      "metadata": {
        "id": "aab48935"
      },
      "source": [
        "Check dataset details"
      ]
    },
    {
      "cell_type": "code",
      "execution_count": null,
      "id": "5801e504",
      "metadata": {
        "id": "5801e504",
        "outputId": "0de17907-9ecd-4f1f-d446-417c066f91fa",
        "colab": {
          "base_uri": "https://localhost:8080/"
        }
      },
      "outputs": [
        {
          "output_type": "stream",
          "name": "stdout",
          "text": [
            "13169 Total\n",
            "5561 Hate speech\n",
            "7608 Non hate speech\n"
          ]
        }
      ],
      "source": [
        "print(data['HS'].size, \"Total\")\n",
        "print(np.sum(data['HS'] == 1), \"Hate speech\")\n",
        "print(np.sum(data['HS'] == 0), \"Non hate speech\")"
      ]
    },
    {
      "cell_type": "markdown",
      "id": "b712979e",
      "metadata": {
        "id": "b712979e"
      },
      "source": [
        "## Preprocessing"
      ]
    },
    {
      "cell_type": "markdown",
      "id": "6797f442",
      "metadata": {
        "id": "6797f442"
      },
      "source": [
        "### Make everything lowercase"
      ]
    },
    {
      "cell_type": "code",
      "execution_count": null,
      "id": "8ae18735",
      "metadata": {
        "id": "8ae18735",
        "outputId": "e881281d-1a06-486a-a341-4de9cf0a8eaf",
        "colab": {
          "base_uri": "https://localhost:8080/"
        }
      },
      "outputs": [
        {
          "output_type": "execute_result",
          "data": {
            "text/plain": [
              "0    - disaat semua cowok berusaha melacak perhatia...\n",
              "1    rt user: user siapa yang telat ngasih tau elu?...\n",
              "2    41. kadang aku berfikir, kenapa aku tetap perc...\n",
              "3    user user aku itu aku\\n\\nku tau matamu sipit t...\n",
              "4    user user kaum cebong kapir udah keliatan dong...\n",
              "5    user ya bani taplak dkk \\xf0\\x9f\\x98\\x84\\xf0\\x...\n",
              "6    deklarasi pilkada 2018 aman dan anti hoax warg...\n",
              "7    gue baru aja kelar re-watch aldnoah zero!!! pa...\n",
              "8    nah admin belanja satu lagi port terbaik nak m...\n",
              "9                        user enak lg klo smbil ngewe'\n",
              "Name: Tweet, dtype: object"
            ]
          },
          "metadata": {},
          "execution_count": 13
        }
      ],
      "source": [
        "data['Tweet'] = data['Tweet'].apply(lambda tweet: tweet.lower())\n",
        "data['Tweet'].head(10)"
      ]
    },
    {
      "cell_type": "markdown",
      "id": "9ef6f3b5",
      "metadata": {
        "id": "9ef6f3b5"
      },
      "source": [
        "### Remove known unwanted words"
      ]
    },
    {
      "cell_type": "code",
      "execution_count": null,
      "id": "29e2e06b",
      "metadata": {
        "id": "29e2e06b",
        "outputId": "eff294ca-4149-4764-b0a8-84c5d7e1cfbe",
        "colab": {
          "base_uri": "https://localhost:8080/"
        }
      },
      "outputs": [
        {
          "output_type": "execute_result",
          "data": {
            "text/plain": [
              "0    - disaat semua cowok berusaha melacak perhatia...\n",
              "1     :  siapa yang telat ngasih tau elu?edan sarap...\n",
              "2    41. kadang aku berfikir, kenapa aku tetap perc...\n",
              "3      aku itu aku  ku tau matamu sipit tapi diliat...\n",
              "4      kaum cebong kapir udah keliatan dongoknya da...\n",
              "5     ya bani taplak dkk \\xf0\\x9f\\x98\\x84\\xf0\\x9f\\x...\n",
              "6    deklarasi pilkada 2018 aman dan anti hoax warg...\n",
              "7    gue baru aja kelar re-watch aldnoah zero!!! pa...\n",
              "8    nah admin belanja satu lagi po terbaik nak mak...\n",
              "9                             enak lg klo smbil ngewe'\n",
              "Name: Tweet, dtype: object"
            ]
          },
          "metadata": {},
          "execution_count": 14
        }
      ],
      "source": [
        "# Remove \\n \\t \\r\n",
        "data['Tweet'].replace(to_replace=[r\"\\\\t|\\\\n|\\\\r\", \"\\t|\\n|\\r\"], value=[\" \",\" \"], regex=True, inplace=True)\n",
        "\n",
        "# Remove RT\n",
        "data['Tweet'] = data['Tweet'].str.replace('rt', '')\n",
        "\n",
        "# Remove USER\n",
        "data['Tweet'] = data['Tweet'].str.replace('user', '')\n",
        "\n",
        "# Remove URL\n",
        "data['Tweet'] = data['Tweet'].str.replace('url', '')\n",
        "\n",
        "data['Tweet'].head(10)"
      ]
    },
    {
      "cell_type": "markdown",
      "id": "5b58a872",
      "metadata": {
        "id": "5b58a872"
      },
      "source": [
        "### Remove non-alphabets characters"
      ]
    },
    {
      "cell_type": "code",
      "execution_count": null,
      "id": "0164bfb9",
      "metadata": {
        "id": "0164bfb9",
        "outputId": "0e6ddffc-d715-479f-b6fe-cb8065f8923c",
        "colab": {
          "base_uri": "https://localhost:8080/"
        }
      },
      "outputs": [
        {
          "output_type": "execute_result",
          "data": {
            "text/plain": [
              "0      disaat semua cowok berusaha melacak perhatia...\n",
              "1        siapa yang telat ngasih tau elu edan sarap...\n",
              "2        kadang aku berfikir  kenapa aku tetap perc...\n",
              "3      aku itu aku  ku tau matamu sipit tapi diliat...\n",
              "4      kaum cebong kapir udah keliatan dongoknya da...\n",
              "5     ya bani taplak dkk  xf  x f x   x   xf  x f x...\n",
              "6    deklarasi pilkada      aman dan anti hoax warg...\n",
              "7    gue baru aja kelar re watch aldnoah zero    pa...\n",
              "8    nah admin belanja satu lagi po terbaik nak mak...\n",
              "9                             enak lg klo smbil ngewe \n",
              "Name: Tweet, dtype: object"
            ]
          },
          "metadata": {},
          "execution_count": 15
        }
      ],
      "source": [
        "data['Tweet'] = data['Tweet'].replace({'[^A-Za-z]': ' '}, regex = True)\n",
        "data['Tweet'].head(10)"
      ]
    },
    {
      "cell_type": "markdown",
      "id": "0c0fb0e7",
      "metadata": {
        "id": "0c0fb0e7"
      },
      "source": [
        "### Remove words that is less than 3 characters"
      ]
    },
    {
      "cell_type": "code",
      "execution_count": null,
      "id": "163e58bb",
      "metadata": {
        "id": "163e58bb",
        "outputId": "5ec17a08-1317-4bb5-ad09-d1a25b5df0d8",
        "colab": {
          "base_uri": "https://localhost:8080/"
        }
      },
      "outputs": [
        {
          "output_type": "stream",
          "name": "stdout",
          "text": [
            "0    disaat semua cowok berusaha melacak perhatian ...\n",
            "1    siapa yang telat ngasih tau elu edan sarap gue...\n",
            "2    kadang aku berfikir kenapa aku tetap percaya p...\n",
            "3    aku itu aku tau matamu sipit tapi diliat dari ...\n",
            "4    kaum cebong kapir udah keliatan dongoknya dari...\n",
            "5                                      bani taplak dkk\n",
            "6    deklarasi pilkada aman dan anti hoax warga duk...\n",
            "7    gue baru aja kelar watch aldnoah zero paling k...\n",
            "8    nah admin belanja satu lagi terbaik nak makan ...\n",
            "9                                 enak klo smbil ngewe\n",
            "Name: Tweet, dtype: object\n"
          ]
        }
      ],
      "source": [
        "data['Tweet'] = data['Tweet'].apply(lambda tweet: ' '.join([w for w in tweet.split() if len(w) > 2]))\n",
        "print(data['Tweet'].head(10));"
      ]
    },
    {
      "cell_type": "markdown",
      "id": "f4bf0fc4",
      "metadata": {
        "id": "f4bf0fc4"
      },
      "source": [
        "### Reformat texts"
      ]
    },
    {
      "cell_type": "code",
      "execution_count": null,
      "id": "8ab714e9",
      "metadata": {
        "id": "8ab714e9",
        "outputId": "7985cb1a-24fb-4945-b43b-913d8e3d8059",
        "colab": {
          "base_uri": "https://localhost:8080/"
        }
      },
      "outputs": [
        {
          "output_type": "execute_result",
          "data": {
            "text/plain": [
              "0    disaat semua cowok berusaha melacak perhatian ...\n",
              "1    siapa yang telat ngasih tau elu edan sarap gue...\n",
              "2    kadang aku berfikir kenapa aku tetap percaya p...\n",
              "3    aku itu aku tau matamu sipit tapi diliat dari ...\n",
              "4    kaum cebong kapir udah keliatan dongoknya dari...\n",
              "5                                      bani taplak dkk\n",
              "6    deklarasi pilkada aman dan anti hoax warga duk...\n",
              "7    gue baru aja kelar watch aldnoah zero paling k...\n",
              "8    nah admin belanja satu lagi terbaik nak makan ...\n",
              "9                                 enak klo smbil ngewe\n",
              "Name: Tweet, dtype: object"
            ]
          },
          "metadata": {},
          "execution_count": 17
        }
      ],
      "source": [
        "# Remove excess spaces\n",
        "data['Tweet'] = data['Tweet'].apply(lambda tweet: ' '.join(tweet.split()))\n",
        "\n",
        "# Trim\n",
        "data['Tweet'] = data['Tweet'].str.strip()\n",
        "\n",
        "data['Tweet'].head(10)"
      ]
    },
    {
      "cell_type": "markdown",
      "id": "6569dd46",
      "metadata": {
        "id": "6569dd46"
      },
      "source": [
        "### Load and replace alay words"
      ]
    },
    {
      "cell_type": "code",
      "execution_count": null,
      "id": "f59e29fb",
      "metadata": {
        "id": "f59e29fb",
        "outputId": "1030a267-e158-4559-8e04-cc3ce2df51a3",
        "colab": {
          "base_uri": "https://localhost:8080/",
          "height": 363
        }
      },
      "outputs": [
        {
          "output_type": "execute_result",
          "data": {
            "text/plain": [
              "                  alay               replacement\n",
              "0  anakjakartaasikasik  anak jakarta asyik asyik\n",
              "1         pakcikdahtua         pak cik sudah tua\n",
              "2       pakcikmudalagi         pak cik muda lagi\n",
              "3          t3tapjokowi              tetap jokowi\n",
              "4                   3x                 tiga kali\n",
              "5               aamiin                      amin\n",
              "6              aamiinn                      amin\n",
              "7                aamin                      amin\n",
              "8              aammiin                      amin\n",
              "9                 abis                     habis"
            ],
            "text/html": [
              "\n",
              "  <div id=\"df-232e817e-1777-4d21-8b3e-6defe17feb65\">\n",
              "    <div class=\"colab-df-container\">\n",
              "      <div>\n",
              "<style scoped>\n",
              "    .dataframe tbody tr th:only-of-type {\n",
              "        vertical-align: middle;\n",
              "    }\n",
              "\n",
              "    .dataframe tbody tr th {\n",
              "        vertical-align: top;\n",
              "    }\n",
              "\n",
              "    .dataframe thead th {\n",
              "        text-align: right;\n",
              "    }\n",
              "</style>\n",
              "<table border=\"1\" class=\"dataframe\">\n",
              "  <thead>\n",
              "    <tr style=\"text-align: right;\">\n",
              "      <th></th>\n",
              "      <th>alay</th>\n",
              "      <th>replacement</th>\n",
              "    </tr>\n",
              "  </thead>\n",
              "  <tbody>\n",
              "    <tr>\n",
              "      <th>0</th>\n",
              "      <td>anakjakartaasikasik</td>\n",
              "      <td>anak jakarta asyik asyik</td>\n",
              "    </tr>\n",
              "    <tr>\n",
              "      <th>1</th>\n",
              "      <td>pakcikdahtua</td>\n",
              "      <td>pak cik sudah tua</td>\n",
              "    </tr>\n",
              "    <tr>\n",
              "      <th>2</th>\n",
              "      <td>pakcikmudalagi</td>\n",
              "      <td>pak cik muda lagi</td>\n",
              "    </tr>\n",
              "    <tr>\n",
              "      <th>3</th>\n",
              "      <td>t3tapjokowi</td>\n",
              "      <td>tetap jokowi</td>\n",
              "    </tr>\n",
              "    <tr>\n",
              "      <th>4</th>\n",
              "      <td>3x</td>\n",
              "      <td>tiga kali</td>\n",
              "    </tr>\n",
              "    <tr>\n",
              "      <th>5</th>\n",
              "      <td>aamiin</td>\n",
              "      <td>amin</td>\n",
              "    </tr>\n",
              "    <tr>\n",
              "      <th>6</th>\n",
              "      <td>aamiinn</td>\n",
              "      <td>amin</td>\n",
              "    </tr>\n",
              "    <tr>\n",
              "      <th>7</th>\n",
              "      <td>aamin</td>\n",
              "      <td>amin</td>\n",
              "    </tr>\n",
              "    <tr>\n",
              "      <th>8</th>\n",
              "      <td>aammiin</td>\n",
              "      <td>amin</td>\n",
              "    </tr>\n",
              "    <tr>\n",
              "      <th>9</th>\n",
              "      <td>abis</td>\n",
              "      <td>habis</td>\n",
              "    </tr>\n",
              "  </tbody>\n",
              "</table>\n",
              "</div>\n",
              "      <button class=\"colab-df-convert\" onclick=\"convertToInteractive('df-232e817e-1777-4d21-8b3e-6defe17feb65')\"\n",
              "              title=\"Convert this dataframe to an interactive table.\"\n",
              "              style=\"display:none;\">\n",
              "        \n",
              "  <svg xmlns=\"http://www.w3.org/2000/svg\" height=\"24px\"viewBox=\"0 0 24 24\"\n",
              "       width=\"24px\">\n",
              "    <path d=\"M0 0h24v24H0V0z\" fill=\"none\"/>\n",
              "    <path d=\"M18.56 5.44l.94 2.06.94-2.06 2.06-.94-2.06-.94-.94-2.06-.94 2.06-2.06.94zm-11 1L8.5 8.5l.94-2.06 2.06-.94-2.06-.94L8.5 2.5l-.94 2.06-2.06.94zm10 10l.94 2.06.94-2.06 2.06-.94-2.06-.94-.94-2.06-.94 2.06-2.06.94z\"/><path d=\"M17.41 7.96l-1.37-1.37c-.4-.4-.92-.59-1.43-.59-.52 0-1.04.2-1.43.59L10.3 9.45l-7.72 7.72c-.78.78-.78 2.05 0 2.83L4 21.41c.39.39.9.59 1.41.59.51 0 1.02-.2 1.41-.59l7.78-7.78 2.81-2.81c.8-.78.8-2.07 0-2.86zM5.41 20L4 18.59l7.72-7.72 1.47 1.35L5.41 20z\"/>\n",
              "  </svg>\n",
              "      </button>\n",
              "      \n",
              "  <style>\n",
              "    .colab-df-container {\n",
              "      display:flex;\n",
              "      flex-wrap:wrap;\n",
              "      gap: 12px;\n",
              "    }\n",
              "\n",
              "    .colab-df-convert {\n",
              "      background-color: #E8F0FE;\n",
              "      border: none;\n",
              "      border-radius: 50%;\n",
              "      cursor: pointer;\n",
              "      display: none;\n",
              "      fill: #1967D2;\n",
              "      height: 32px;\n",
              "      padding: 0 0 0 0;\n",
              "      width: 32px;\n",
              "    }\n",
              "\n",
              "    .colab-df-convert:hover {\n",
              "      background-color: #E2EBFA;\n",
              "      box-shadow: 0px 1px 2px rgba(60, 64, 67, 0.3), 0px 1px 3px 1px rgba(60, 64, 67, 0.15);\n",
              "      fill: #174EA6;\n",
              "    }\n",
              "\n",
              "    [theme=dark] .colab-df-convert {\n",
              "      background-color: #3B4455;\n",
              "      fill: #D2E3FC;\n",
              "    }\n",
              "\n",
              "    [theme=dark] .colab-df-convert:hover {\n",
              "      background-color: #434B5C;\n",
              "      box-shadow: 0px 1px 3px 1px rgba(0, 0, 0, 0.15);\n",
              "      filter: drop-shadow(0px 1px 2px rgba(0, 0, 0, 0.3));\n",
              "      fill: #FFFFFF;\n",
              "    }\n",
              "  </style>\n",
              "\n",
              "      <script>\n",
              "        const buttonEl =\n",
              "          document.querySelector('#df-232e817e-1777-4d21-8b3e-6defe17feb65 button.colab-df-convert');\n",
              "        buttonEl.style.display =\n",
              "          google.colab.kernel.accessAllowed ? 'block' : 'none';\n",
              "\n",
              "        async function convertToInteractive(key) {\n",
              "          const element = document.querySelector('#df-232e817e-1777-4d21-8b3e-6defe17feb65');\n",
              "          const dataTable =\n",
              "            await google.colab.kernel.invokeFunction('convertToInteractive',\n",
              "                                                     [key], {});\n",
              "          if (!dataTable) return;\n",
              "\n",
              "          const docLinkHtml = 'Like what you see? Visit the ' +\n",
              "            '<a target=\"_blank\" href=https://colab.research.google.com/notebooks/data_table.ipynb>data table notebook</a>'\n",
              "            + ' to learn more about interactive tables.';\n",
              "          element.innerHTML = '';\n",
              "          dataTable['output_type'] = 'display_data';\n",
              "          await google.colab.output.renderOutput(dataTable, element);\n",
              "          const docLink = document.createElement('div');\n",
              "          docLink.innerHTML = docLinkHtml;\n",
              "          element.appendChild(docLink);\n",
              "        }\n",
              "      </script>\n",
              "    </div>\n",
              "  </div>\n",
              "  "
            ]
          },
          "metadata": {},
          "execution_count": 18
        }
      ],
      "source": [
        "alay_words = pd.read_csv('https://raw.githubusercontent.com/kawishbit/svm-hate-speech-id/main/alay.csv')\n",
        "alay_words.head(10)"
      ]
    },
    {
      "cell_type": "code",
      "execution_count": null,
      "id": "069429f5",
      "metadata": {
        "id": "069429f5",
        "outputId": "fffe8dbc-8d34-414c-e498-b18ffe1f2124",
        "colab": {
          "base_uri": "https://localhost:8080/"
        }
      },
      "outputs": [
        {
          "output_type": "execute_result",
          "data": {
            "text/plain": [
              "0    di saat semua cowok berusaha melacak perhatian...\n",
              "1    siapa yang telat memberi tau kamu edan sarap g...\n",
              "2    kadang aku berpikir kenapa aku tetap percaya p...\n",
              "3    aku itu aku tau matamu sipit tapi dilihat dari...\n",
              "4    kaum cebong kafir sudah kelihatan dongoknya da...\n",
              "5                          bani taplak dan kawan kawan\n",
              "6    deklarasi pilihan kepala daerah aman dan anti ...\n",
              "7    gue baru saja selesai watch aldnoah zero palin...\n",
              "8    nah admin belanja satu lagi terbaik nak makan ...\n",
              "9                              enak kalau sambil ngewe\n",
              "Name: Tweet, dtype: object"
            ]
          },
          "metadata": {},
          "execution_count": 19
        }
      ],
      "source": [
        "def replace_alay(tweet):\n",
        "    output = []\n",
        "    words = tweet.split()\n",
        "    for word in words:\n",
        "      row = alay_words[alay_words.alay == word]\n",
        "      if row.empty:\n",
        "        output.append(word)\n",
        "      else:\n",
        "        output.append(str(row['replacement'].values[0]))\n",
        "\n",
        "    return ' '.join(output)\n",
        "\n",
        "data['Tweet'] = data['Tweet'].apply(lambda tweet: replace_alay(tweet))\n",
        "data['Tweet'].head(10)"
      ]
    },
    {
      "cell_type": "markdown",
      "id": "600cb7f5",
      "metadata": {
        "id": "600cb7f5"
      },
      "source": [
        "### Load and remove stopwords"
      ]
    },
    {
      "cell_type": "code",
      "execution_count": null,
      "id": "56df2671",
      "metadata": {
        "id": "56df2671",
        "outputId": "bb4e2b57-fd8d-41de-97b0-db906922488b",
        "colab": {
          "base_uri": "https://localhost:8080/"
        }
      },
      "outputs": [
        {
          "output_type": "execute_result",
          "data": {
            "text/plain": [
              "['adalah',\n",
              " 'adanya',\n",
              " 'adapun',\n",
              " 'agak',\n",
              " 'agaknya',\n",
              " 'agar',\n",
              " 'akan',\n",
              " 'akankah',\n",
              " 'akhir',\n",
              " 'akhiri']"
            ]
          },
          "metadata": {},
          "execution_count": 20
        }
      ],
      "source": [
        "indonesian_stopwords = pd.read_csv('https://raw.githubusercontent.com/kawishbit/svm-hate-speech-id/main/stopwords.txt', sep=\"\\n\")\n",
        "indonesian_stopwords = indonesian_stopwords.iloc[:, 0].values.tolist()\n",
        "indonesian_stopwords[:10]"
      ]
    },
    {
      "cell_type": "code",
      "execution_count": null,
      "id": "61b09821",
      "metadata": {
        "id": "61b09821",
        "outputId": "c0a5897e-f5a1-4233-b25e-1fe00da24657",
        "colab": {
          "base_uri": "https://localhost:8080/"
        }
      },
      "outputs": [
        {
          "output_type": "execute_result",
          "data": {
            "text/plain": [
              "0    cowok berusaha melacak perhatian gue lantas re...\n",
              "1    telat tau edan sarap gue bergaul cigax jifla c...\n",
              "2    kadang berpikir percaya tuhan jatuh berkali ka...\n",
              "3                                     tau matamu sipit\n",
              "4               kaum cebong kafir dongoknya dungu haha\n",
              "5                              bani taplak kawan kawan\n",
              "6    deklarasi pilihan kepala daerah aman anti hoak...\n",
              "7    gue selesai watch aldnoah zero kampret karakte...\n",
              "8    admin belanja terbaik nak makan ais kepal milo...\n",
              "9                                           enak ngewe\n",
              "Name: Tweet, dtype: object"
            ]
          },
          "metadata": {},
          "execution_count": 21
        }
      ],
      "source": [
        "def remove_stopwords(tweet):\n",
        "    output = []\n",
        "    words = tweet.split()\n",
        "    for word in words:\n",
        "      if word not in indonesian_stopwords:\n",
        "        output.append(word)\n",
        "\n",
        "    return ' '.join(output)\n",
        "\n",
        "data['Tweet'] = data['Tweet'].apply(lambda tweet: remove_stopwords(tweet))\n",
        "\n",
        "data['Tweet'].head(10)"
      ]
    },
    {
      "cell_type": "code",
      "execution_count": null,
      "id": "97bc9be8",
      "metadata": {
        "id": "97bc9be8",
        "outputId": "b9a35301-16fe-4c99-d9c5-3ac14e0dccdf",
        "colab": {
          "base_uri": "https://localhost:8080/",
          "height": 35
        }
      },
      "outputs": [
        {
          "output_type": "execute_result",
          "data": {
            "text/plain": [
              "'tau matamu sipit'"
            ],
            "application/vnd.google.colaboratory.intrinsic+json": {
              "type": "string"
            }
          },
          "metadata": {},
          "execution_count": 22
        }
      ],
      "source": [
        "data['Tweet'][3]"
      ]
    },
    {
      "cell_type": "markdown",
      "id": "a9caf38d",
      "metadata": {
        "id": "a9caf38d"
      },
      "source": [
        "### Stem using Indonesian stemmer"
      ]
    },
    {
      "cell_type": "markdown",
      "id": "419362d8",
      "metadata": {
        "id": "419362d8"
      },
      "source": [
        "It took quite some time, measured to be around 1 hour and 40 minutes, so be patient"
      ]
    },
    {
      "cell_type": "code",
      "execution_count": null,
      "id": "60bff5e0",
      "metadata": {
        "id": "60bff5e0"
      },
      "outputs": [],
      "source": [
        "stemmer_factory = StemmerFactory()\n",
        "stemmer = stemmer_factory.create_stemmer()\n",
        "\n",
        "data['Tweet'] = data['Tweet'].apply(lambda tweet: stemmer.stem(tweet))"
      ]
    },
    {
      "cell_type": "code",
      "execution_count": null,
      "id": "4936af4b",
      "metadata": {
        "id": "4936af4b",
        "outputId": "f28efe62-5eb8-4dee-c2dc-460989097c9d",
        "colab": {
          "base_uri": "https://localhost:8080/"
        }
      },
      "outputs": [
        {
          "output_type": "execute_result",
          "data": {
            "text/plain": [
              "0    cowok usaha lacak perhati gue lantas remeh per...\n",
              "1    telat tau edan sarap gue gaul cigax jifla cal ...\n",
              "2    kadang pikir percaya tuhan jatuh kali kali kad...\n",
              "3                                       tau mata sipit\n",
              "4                  kaum cebong kafir dongok dungu haha\n",
              "5                              bani taplak kawan kawan\n",
              "6    deklarasi pilih kepala daerah aman anti hoaks ...\n",
              "7    gue selesai watch aldnoah zero kampret karakte...\n",
              "8    admin belanja baik nak makan ais kepal milo ai...\n",
              "9                                           enak ngewe\n",
              "Name: Tweet, dtype: object"
            ]
          },
          "metadata": {},
          "execution_count": 24
        }
      ],
      "source": [
        "data['Tweet'].head(10)"
      ]
    },
    {
      "cell_type": "markdown",
      "id": "fdc92113",
      "metadata": {
        "id": "fdc92113"
      },
      "source": [
        "### Tokenize the words"
      ]
    },
    {
      "cell_type": "code",
      "execution_count": null,
      "id": "73d0505d",
      "metadata": {
        "id": "73d0505d",
        "outputId": "211e9243-00b3-4691-ee19-d6f38ed83c7f",
        "colab": {
          "base_uri": "https://localhost:8080/"
        }
      },
      "outputs": [
        {
          "output_type": "execute_result",
          "data": {
            "text/plain": [
              "array([[   0,    0,    0,    0,    0,    0,    0,    0,    0,    0,    0,\n",
              "           0,    0,    0,    0,    0,    0,    0,    0,    0,    0,    0,\n",
              "           0,    0,    0,    0,    0,    0,    0,  298,  133,  541,    7,\n",
              "        1911,  541,    7,   67,  115,  298,  178],\n",
              "       [   0,    0,    0,    0,    0,    0,    0,    0,    0,    0,    0,\n",
              "           0,    0,    0,    0,    0,    0,    0,    0,    0,    0,    0,\n",
              "           0,    0,    0,    0,    0,    0,    0,    0,    0,    0,    0,\n",
              "           0, 1796,   34,  407,  344,    7, 1589],\n",
              "       [   0,    0,    0,    0,    0,    0,    0,    0,    0,    0,    0,\n",
              "           0,    0,    0,    0,    0,    0,    0,    0,    0,    0,  542,\n",
              "          76,  120,  165,  457,  105,  105,  542,  165,  182,    4,  434,\n",
              "         894, 1590,  924,    9,   27,   29, 1691]], dtype=int32)"
            ]
          },
          "metadata": {},
          "execution_count": 25
        }
      ],
      "source": [
        "data.dropna()\n",
        "\n",
        "max_features = 2000\n",
        "tokenizer = Tokenizer(lower=False, num_words=max_features, split=' ')\n",
        "tokenizer.fit_on_texts(data['Tweet'].values)\n",
        "\n",
        "X = tokenizer.texts_to_sequences(data['Tweet'].values)\n",
        "X = pad_sequences(X)\n",
        "\n",
        "X[:3]"
      ]
    },
    {
      "cell_type": "markdown",
      "id": "4742450f",
      "metadata": {
        "id": "4742450f"
      },
      "source": [
        "## Training\n",
        "### Initialize LSTM network"
      ]
    },
    {
      "cell_type": "code",
      "execution_count": null,
      "id": "a0141e63",
      "metadata": {
        "id": "a0141e63",
        "outputId": "610d48d6-a8b0-41bb-ade2-51aa964dae13",
        "colab": {
          "base_uri": "https://localhost:8080/"
        }
      },
      "outputs": [
        {
          "output_type": "stream",
          "name": "stdout",
          "text": [
            "Model: \"sequential\"\n",
            "_________________________________________________________________\n",
            " Layer (type)                Output Shape              Param #   \n",
            "=================================================================\n",
            " embedding (Embedding)       (None, 40, 128)           256000    \n",
            "                                                                 \n",
            " spatial_dropout1d (SpatialD  (None, 40, 128)          0         \n",
            " ropout1D)                                                       \n",
            "                                                                 \n",
            " lstm (LSTM)                 (None, 196)               254800    \n",
            "                                                                 \n",
            " dense (Dense)               (None, 2)                 394       \n",
            "                                                                 \n",
            "=================================================================\n",
            "Total params: 511,194\n",
            "Trainable params: 511,194\n",
            "Non-trainable params: 0\n",
            "_________________________________________________________________\n",
            "None\n",
            "40\n"
          ]
        }
      ],
      "source": [
        "embed_dim = 128\n",
        "lstm_out = 196\n",
        "\n",
        "model = Sequential()\n",
        "model.add(Embedding(max_features, embed_dim,input_length = X.shape[1]))\n",
        "model.add(SpatialDropout1D(0.4))\n",
        "model.add(LSTM(lstm_out, dropout=0.2, recurrent_dropout=0.2))\n",
        "model.add(Dense(2,activation='softmax'))\n",
        "model.compile(loss = 'categorical_crossentropy', optimizer='adam',metrics = ['accuracy'])\n",
        "print(model.summary())\n",
        "print(X.shape[1])"
      ]
    },
    {
      "cell_type": "markdown",
      "id": "19abf457",
      "metadata": {
        "id": "19abf457"
      },
      "source": [
        "### Split dataset for training and testing"
      ]
    },
    {
      "cell_type": "code",
      "execution_count": null,
      "id": "61f110f1",
      "metadata": {
        "id": "61f110f1",
        "outputId": "7ee8e503-4e1f-42d3-da0d-fb128986d968",
        "colab": {
          "base_uri": "https://localhost:8080/"
        }
      },
      "outputs": [
        {
          "output_type": "stream",
          "name": "stdout",
          "text": [
            "(10535, 40) (10535, 2)\n",
            "(2634, 40) (2634, 2)\n"
          ]
        }
      ],
      "source": [
        "Y = pd.get_dummies(data['HS']).values\n",
        "X_train, X_test, Y_train, Y_test = train_test_split(X, Y, test_size = 0.20, random_state = 42)\n",
        "print(X_train.shape, Y_train.shape)\n",
        "print(X_test.shape, Y_test.shape)"
      ]
    },
    {
      "cell_type": "markdown",
      "id": "0d793971",
      "metadata": {
        "id": "0d793971"
      },
      "source": [
        "### Declare checkpoint to save the model as a file"
      ]
    },
    {
      "cell_type": "code",
      "execution_count": null,
      "id": "bbb73c8c",
      "metadata": {
        "id": "bbb73c8c"
      },
      "outputs": [],
      "source": [
        "model_path = 'models/LSTM_twitter_sentiment_analysis_latest.h5'\n",
        "checkpoint = ModelCheckpoint(\n",
        "    model_path,\n",
        "    monitor='accuracy',\n",
        "    save_best_only=True,\n",
        "    verbose=1\n",
        ")"
      ]
    },
    {
      "cell_type": "markdown",
      "id": "12df2a6e",
      "metadata": {
        "id": "12df2a6e"
      },
      "source": [
        "### Start training with 15 epoch"
      ]
    },
    {
      "cell_type": "code",
      "execution_count": null,
      "id": "e2315370",
      "metadata": {
        "id": "e2315370",
        "outputId": "86f1a424-a229-4b2c-cbbd-7833f7eeda26",
        "colab": {
          "base_uri": "https://localhost:8080/"
        }
      },
      "outputs": [
        {
          "output_type": "stream",
          "name": "stdout",
          "text": [
            "Epoch 1/15\n",
            "83/83 [==============================] - ETA: 0s - loss: 0.5430 - accuracy: 0.7110\n",
            "Epoch 1: accuracy improved from -inf to 0.71096, saving model to models/LSTM_twitter_sentiment_analysis_latest.h5\n",
            "83/83 [==============================] - 48s 534ms/step - loss: 0.5430 - accuracy: 0.7110\n",
            "Epoch 2/15\n",
            "83/83 [==============================] - ETA: 0s - loss: 0.3619 - accuracy: 0.8371\n",
            "Epoch 2: accuracy improved from 0.71096 to 0.83711, saving model to models/LSTM_twitter_sentiment_analysis_latest.h5\n",
            "83/83 [==============================] - 44s 535ms/step - loss: 0.3619 - accuracy: 0.8371\n",
            "Epoch 3/15\n",
            "83/83 [==============================] - ETA: 0s - loss: 0.3187 - accuracy: 0.8620\n",
            "Epoch 3: accuracy improved from 0.83711 to 0.86198, saving model to models/LSTM_twitter_sentiment_analysis_latest.h5\n",
            "83/83 [==============================] - 44s 533ms/step - loss: 0.3187 - accuracy: 0.8620\n",
            "Epoch 4/15\n",
            "83/83 [==============================] - ETA: 0s - loss: 0.2935 - accuracy: 0.8745\n",
            "Epoch 4: accuracy improved from 0.86198 to 0.87451, saving model to models/LSTM_twitter_sentiment_analysis_latest.h5\n",
            "83/83 [==============================] - 44s 536ms/step - loss: 0.2935 - accuracy: 0.8745\n",
            "Epoch 5/15\n",
            "83/83 [==============================] - ETA: 0s - loss: 0.2810 - accuracy: 0.8813\n",
            "Epoch 5: accuracy improved from 0.87451 to 0.88135, saving model to models/LSTM_twitter_sentiment_analysis_latest.h5\n",
            "83/83 [==============================] - 46s 553ms/step - loss: 0.2810 - accuracy: 0.8813\n",
            "Epoch 6/15\n",
            "83/83 [==============================] - ETA: 0s - loss: 0.2606 - accuracy: 0.8879\n",
            "Epoch 6: accuracy improved from 0.88135 to 0.88790, saving model to models/LSTM_twitter_sentiment_analysis_latest.h5\n",
            "83/83 [==============================] - 44s 534ms/step - loss: 0.2606 - accuracy: 0.8879\n",
            "Epoch 7/15\n",
            "83/83 [==============================] - ETA: 0s - loss: 0.2442 - accuracy: 0.8985\n",
            "Epoch 7: accuracy improved from 0.88790 to 0.89853, saving model to models/LSTM_twitter_sentiment_analysis_latest.h5\n",
            "83/83 [==============================] - 44s 534ms/step - loss: 0.2442 - accuracy: 0.8985\n",
            "Epoch 8/15\n",
            "83/83 [==============================] - ETA: 0s - loss: 0.2302 - accuracy: 0.9072\n",
            "Epoch 8: accuracy improved from 0.89853 to 0.90717, saving model to models/LSTM_twitter_sentiment_analysis_latest.h5\n",
            "83/83 [==============================] - 44s 534ms/step - loss: 0.2302 - accuracy: 0.9072\n",
            "Epoch 9/15\n",
            "83/83 [==============================] - ETA: 0s - loss: 0.2084 - accuracy: 0.9138\n",
            "Epoch 9: accuracy improved from 0.90717 to 0.91381, saving model to models/LSTM_twitter_sentiment_analysis_latest.h5\n",
            "83/83 [==============================] - 44s 531ms/step - loss: 0.2084 - accuracy: 0.9138\n",
            "Epoch 10/15\n",
            "83/83 [==============================] - ETA: 0s - loss: 0.2031 - accuracy: 0.9155\n",
            "Epoch 10: accuracy improved from 0.91381 to 0.91552, saving model to models/LSTM_twitter_sentiment_analysis_latest.h5\n",
            "83/83 [==============================] - 46s 551ms/step - loss: 0.2031 - accuracy: 0.9155\n",
            "Epoch 11/15\n",
            "83/83 [==============================] - ETA: 0s - loss: 0.1952 - accuracy: 0.9206\n",
            "Epoch 11: accuracy improved from 0.91552 to 0.92065, saving model to models/LSTM_twitter_sentiment_analysis_latest.h5\n",
            "83/83 [==============================] - 44s 535ms/step - loss: 0.1952 - accuracy: 0.9206\n",
            "Epoch 12/15\n",
            "83/83 [==============================] - ETA: 0s - loss: 0.1830 - accuracy: 0.9251\n",
            "Epoch 12: accuracy improved from 0.92065 to 0.92511, saving model to models/LSTM_twitter_sentiment_analysis_latest.h5\n",
            "83/83 [==============================] - 44s 533ms/step - loss: 0.1830 - accuracy: 0.9251\n",
            "Epoch 13/15\n",
            "83/83 [==============================] - ETA: 0s - loss: 0.1685 - accuracy: 0.9303\n",
            "Epoch 13: accuracy improved from 0.92511 to 0.93033, saving model to models/LSTM_twitter_sentiment_analysis_latest.h5\n",
            "83/83 [==============================] - 45s 536ms/step - loss: 0.1685 - accuracy: 0.9303\n",
            "Epoch 14/15\n",
            "83/83 [==============================] - ETA: 0s - loss: 0.1678 - accuracy: 0.9322\n",
            "Epoch 14: accuracy improved from 0.93033 to 0.93223, saving model to models/LSTM_twitter_sentiment_analysis_latest.h5\n",
            "83/83 [==============================] - 45s 537ms/step - loss: 0.1678 - accuracy: 0.9322\n",
            "Epoch 15/15\n",
            "83/83 [==============================] - ETA: 0s - loss: 0.1566 - accuracy: 0.9369\n",
            "Epoch 15: accuracy improved from 0.93223 to 0.93688, saving model to models/LSTM_twitter_sentiment_analysis_latest.h5\n",
            "83/83 [==============================] - 46s 552ms/step - loss: 0.1566 - accuracy: 0.9369\n"
          ]
        },
        {
          "output_type": "execute_result",
          "data": {
            "text/plain": [
              "<keras.callbacks.History at 0x7fe4d78ea070>"
            ]
          },
          "metadata": {},
          "execution_count": 29
        }
      ],
      "source": [
        "batch_size = 128\n",
        "model.fit(X_train, Y_train, epochs = 15, batch_size=batch_size, verbose = 1, callbacks=[checkpoint])"
      ]
    },
    {
      "cell_type": "markdown",
      "id": "e3e00602",
      "metadata": {
        "id": "e3e00602"
      },
      "source": [
        "### Measure score and accuracy"
      ]
    },
    {
      "cell_type": "code",
      "execution_count": null,
      "id": "b95b631a",
      "metadata": {
        "id": "b95b631a",
        "outputId": "e7094082-a50c-4bfa-d7f1-943033cd5c32",
        "colab": {
          "base_uri": "https://localhost:8080/"
        }
      },
      "outputs": [
        {
          "output_type": "stream",
          "name": "stdout",
          "text": [
            "83/83 [==============================] - 3s 32ms/step\n",
            "     true  pred\n",
            "0  [0, 1]     1\n",
            "1  [0, 1]     0\n",
            "2  [1, 0]     0\n",
            "3  [1, 0]     0\n",
            "4  [1, 0]     0\n",
            "confusion matrix [[1303  213]\n",
            " [ 287  831]]\n",
            "              precision    recall  f1-score   support\n",
            "\n",
            "           0       0.82      0.86      0.84      1516\n",
            "           1       0.80      0.74      0.77      1118\n",
            "\n",
            "    accuracy                           0.81      2634\n",
            "   macro avg       0.81      0.80      0.80      2634\n",
            "weighted avg       0.81      0.81      0.81      2634\n",
            "\n"
          ]
        }
      ],
      "source": [
        "predict_x = model.predict(X_test)\n",
        "classes_x = np.argmax(predict_x, axis=1)\n",
        "\n",
        "df_test = pd.DataFrame({'true': Y_test.tolist(), 'pred': classes_x})\n",
        "print(df_test.head())\n",
        "\n",
        "df_test['true'] = df_test['true'].apply(lambda x: np.argmax(x))\n",
        "\n",
        "print('confusion matrix', confusion_matrix(df_test.true, df_test.pred))\n",
        "print(classification_report(df_test.true, df_test.pred))"
      ]
    },
    {
      "cell_type": "markdown",
      "id": "50b8d48b",
      "metadata": {
        "id": "50b8d48b"
      },
      "source": [
        "## Testing"
      ]
    },
    {
      "cell_type": "markdown",
      "id": "eb9b46cd",
      "metadata": {
        "id": "eb9b46cd"
      },
      "source": [
        "### Load saved model"
      ]
    },
    {
      "cell_type": "code",
      "execution_count": null,
      "id": "b1ca33e4",
      "metadata": {
        "id": "b1ca33e4"
      },
      "outputs": [],
      "source": [
        "loaded_model = load_model(model_path)"
      ]
    },
    {
      "cell_type": "markdown",
      "id": "636a329c",
      "metadata": {
        "id": "636a329c"
      },
      "source": [
        "### Accept input\n"
      ]
    },
    {
      "cell_type": "code",
      "execution_count": null,
      "id": "d6f13cae",
      "metadata": {
        "id": "d6f13cae"
      },
      "outputs": [],
      "source": [
        "tweet = \"itu cebong ngapain demo di monas, mending tiduran dirumah\""
      ]
    },
    {
      "cell_type": "markdown",
      "id": "18f7c540",
      "metadata": {
        "id": "18f7c540"
      },
      "source": [
        "### Run preprocessing on the input\n"
      ]
    },
    {
      "cell_type": "code",
      "execution_count": null,
      "id": "95497671",
      "metadata": {
        "id": "95497671",
        "outputId": "7a34b7b2-611b-41e9-bb88-490c6a080e2c",
        "colab": {
          "base_uri": "https://localhost:8080/",
          "height": 35
        }
      },
      "outputs": [
        {
          "output_type": "execute_result",
          "data": {
            "text/plain": [
              "'cebong demo monas mending tidur rumah'"
            ],
            "application/vnd.google.colaboratory.intrinsic+json": {
              "type": "string"
            }
          },
          "metadata": {},
          "execution_count": 33
        }
      ],
      "source": [
        "tweet = replace_alay(tweet)\n",
        "tweet = remove_stopwords(tweet)\n",
        "tweet = stemmer.stem(tweet)\n",
        "\n",
        "tweet"
      ]
    },
    {
      "cell_type": "markdown",
      "id": "8484a81f",
      "metadata": {
        "id": "8484a81f"
      },
      "source": [
        "### Tokenize inputs"
      ]
    },
    {
      "cell_type": "code",
      "execution_count": null,
      "id": "17384ac5",
      "metadata": {
        "id": "17384ac5",
        "outputId": "04c4b1b6-a3c2-463c-9f0e-c388f718048d",
        "colab": {
          "base_uri": "https://localhost:8080/"
        }
      },
      "outputs": [
        {
          "output_type": "stream",
          "name": "stdout",
          "text": [
            "[[  0   0   0   0   0   0   0   0   0   0   0   0   0   0   0   0   0   0\n",
            "    0   0   0   0   0   0   0   0   0   0   0   0   0   0   0  20 287 476\n",
            "  439 150]]\n"
          ]
        }
      ],
      "source": [
        "tokenized_word = tokenizer.texts_to_sequences([tweet])\n",
        "tokenized_word = pad_sequences(tokenized_word, maxlen=38, dtype='int32', value=0)\n",
        "\n",
        "print(tokenized_word)"
      ]
    },
    {
      "cell_type": "markdown",
      "id": "4e76c3ba",
      "metadata": {
        "id": "4e76c3ba"
      },
      "source": [
        "### Run prediction"
      ]
    },
    {
      "cell_type": "code",
      "execution_count": null,
      "id": "69717cc1",
      "metadata": {
        "id": "69717cc1",
        "outputId": "bdabca7a-bf09-4280-f17e-74ea9968ffb8",
        "colab": {
          "base_uri": "https://localhost:8080/",
          "height": 641
        }
      },
      "outputs": [
        {
          "output_type": "error",
          "ename": "ValueError",
          "evalue": "ignored",
          "traceback": [
            "\u001b[0;31m---------------------------------------------------------------------------\u001b[0m",
            "\u001b[0;31mValueError\u001b[0m                                Traceback (most recent call last)",
            "\u001b[0;32m<ipython-input-37-08d267e5596c>\u001b[0m in \u001b[0;36m<module>\u001b[0;34m\u001b[0m\n\u001b[0;32m----> 1\u001b[0;31m \u001b[0msentiment\u001b[0m \u001b[0;34m=\u001b[0m \u001b[0mloaded_model\u001b[0m\u001b[0;34m.\u001b[0m\u001b[0mpredict\u001b[0m\u001b[0;34m(\u001b[0m\u001b[0mtokenized_word\u001b[0m\u001b[0;34m,\u001b[0m\u001b[0mbatch_size\u001b[0m\u001b[0;34m=\u001b[0m\u001b[0;36m1\u001b[0m\u001b[0;34m)\u001b[0m\u001b[0;34m[\u001b[0m\u001b[0;36m0\u001b[0m\u001b[0;34m]\u001b[0m\u001b[0;34m\u001b[0m\u001b[0;34m\u001b[0m\u001b[0m\n\u001b[0m\u001b[1;32m      2\u001b[0m \u001b[0;34m\u001b[0m\u001b[0m\n\u001b[1;32m      3\u001b[0m \u001b[0;32mif\u001b[0m\u001b[0;34m(\u001b[0m\u001b[0mnp\u001b[0m\u001b[0;34m.\u001b[0m\u001b[0margmax\u001b[0m\u001b[0;34m(\u001b[0m\u001b[0msentiment\u001b[0m\u001b[0;34m)\u001b[0m \u001b[0;34m==\u001b[0m \u001b[0;36m0\u001b[0m\u001b[0;34m)\u001b[0m\u001b[0;34m:\u001b[0m\u001b[0;34m\u001b[0m\u001b[0;34m\u001b[0m\u001b[0m\n\u001b[1;32m      4\u001b[0m     \u001b[0mprint\u001b[0m\u001b[0;34m(\u001b[0m\u001b[0;34m\"Not a hate speech,\"\u001b[0m\u001b[0;34m,\u001b[0m \u001b[0msentiment\u001b[0m\u001b[0;34m[\u001b[0m\u001b[0;36m0\u001b[0m\u001b[0;34m]\u001b[0m\u001b[0;34m,\u001b[0m \u001b[0;34m'sure'\u001b[0m\u001b[0;34m)\u001b[0m\u001b[0;34m\u001b[0m\u001b[0;34m\u001b[0m\u001b[0m\n\u001b[1;32m      5\u001b[0m \u001b[0;32melif\u001b[0m \u001b[0;34m(\u001b[0m\u001b[0mnp\u001b[0m\u001b[0;34m.\u001b[0m\u001b[0margmax\u001b[0m\u001b[0;34m(\u001b[0m\u001b[0msentiment\u001b[0m\u001b[0;34m)\u001b[0m \u001b[0;34m==\u001b[0m \u001b[0;36m1\u001b[0m\u001b[0;34m)\u001b[0m\u001b[0;34m:\u001b[0m\u001b[0;34m\u001b[0m\u001b[0;34m\u001b[0m\u001b[0m\n",
            "\u001b[0;32m/usr/local/lib/python3.8/dist-packages/keras/utils/traceback_utils.py\u001b[0m in \u001b[0;36merror_handler\u001b[0;34m(*args, **kwargs)\u001b[0m\n\u001b[1;32m     65\u001b[0m     \u001b[0;32mexcept\u001b[0m \u001b[0mException\u001b[0m \u001b[0;32mas\u001b[0m \u001b[0me\u001b[0m\u001b[0;34m:\u001b[0m  \u001b[0;31m# pylint: disable=broad-except\u001b[0m\u001b[0;34m\u001b[0m\u001b[0;34m\u001b[0m\u001b[0m\n\u001b[1;32m     66\u001b[0m       \u001b[0mfiltered_tb\u001b[0m \u001b[0;34m=\u001b[0m \u001b[0m_process_traceback_frames\u001b[0m\u001b[0;34m(\u001b[0m\u001b[0me\u001b[0m\u001b[0;34m.\u001b[0m\u001b[0m__traceback__\u001b[0m\u001b[0;34m)\u001b[0m\u001b[0;34m\u001b[0m\u001b[0;34m\u001b[0m\u001b[0m\n\u001b[0;32m---> 67\u001b[0;31m       \u001b[0;32mraise\u001b[0m \u001b[0me\u001b[0m\u001b[0;34m.\u001b[0m\u001b[0mwith_traceback\u001b[0m\u001b[0;34m(\u001b[0m\u001b[0mfiltered_tb\u001b[0m\u001b[0;34m)\u001b[0m \u001b[0;32mfrom\u001b[0m \u001b[0;32mNone\u001b[0m\u001b[0;34m\u001b[0m\u001b[0;34m\u001b[0m\u001b[0m\n\u001b[0m\u001b[1;32m     68\u001b[0m     \u001b[0;32mfinally\u001b[0m\u001b[0;34m:\u001b[0m\u001b[0;34m\u001b[0m\u001b[0;34m\u001b[0m\u001b[0m\n\u001b[1;32m     69\u001b[0m       \u001b[0;32mdel\u001b[0m \u001b[0mfiltered_tb\u001b[0m\u001b[0;34m\u001b[0m\u001b[0;34m\u001b[0m\u001b[0m\n",
            "\u001b[0;32m/usr/local/lib/python3.8/dist-packages/keras/engine/training.py\u001b[0m in \u001b[0;36mtf__predict_function\u001b[0;34m(iterator)\u001b[0m\n\u001b[1;32m     13\u001b[0m                 \u001b[0;32mtry\u001b[0m\u001b[0;34m:\u001b[0m\u001b[0;34m\u001b[0m\u001b[0;34m\u001b[0m\u001b[0m\n\u001b[1;32m     14\u001b[0m                     \u001b[0mdo_return\u001b[0m \u001b[0;34m=\u001b[0m \u001b[0;32mTrue\u001b[0m\u001b[0;34m\u001b[0m\u001b[0;34m\u001b[0m\u001b[0m\n\u001b[0;32m---> 15\u001b[0;31m                     \u001b[0mretval_\u001b[0m \u001b[0;34m=\u001b[0m \u001b[0mag__\u001b[0m\u001b[0;34m.\u001b[0m\u001b[0mconverted_call\u001b[0m\u001b[0;34m(\u001b[0m\u001b[0mag__\u001b[0m\u001b[0;34m.\u001b[0m\u001b[0mld\u001b[0m\u001b[0;34m(\u001b[0m\u001b[0mstep_function\u001b[0m\u001b[0;34m)\u001b[0m\u001b[0;34m,\u001b[0m \u001b[0;34m(\u001b[0m\u001b[0mag__\u001b[0m\u001b[0;34m.\u001b[0m\u001b[0mld\u001b[0m\u001b[0;34m(\u001b[0m\u001b[0mself\u001b[0m\u001b[0;34m)\u001b[0m\u001b[0;34m,\u001b[0m \u001b[0mag__\u001b[0m\u001b[0;34m.\u001b[0m\u001b[0mld\u001b[0m\u001b[0;34m(\u001b[0m\u001b[0miterator\u001b[0m\u001b[0;34m)\u001b[0m\u001b[0;34m)\u001b[0m\u001b[0;34m,\u001b[0m \u001b[0;32mNone\u001b[0m\u001b[0;34m,\u001b[0m \u001b[0mfscope\u001b[0m\u001b[0;34m)\u001b[0m\u001b[0;34m\u001b[0m\u001b[0;34m\u001b[0m\u001b[0m\n\u001b[0m\u001b[1;32m     16\u001b[0m                 \u001b[0;32mexcept\u001b[0m\u001b[0;34m:\u001b[0m\u001b[0;34m\u001b[0m\u001b[0;34m\u001b[0m\u001b[0m\n\u001b[1;32m     17\u001b[0m                     \u001b[0mdo_return\u001b[0m \u001b[0;34m=\u001b[0m \u001b[0;32mFalse\u001b[0m\u001b[0;34m\u001b[0m\u001b[0;34m\u001b[0m\u001b[0m\n",
            "\u001b[0;31mValueError\u001b[0m: in user code:\n\n    File \"/usr/local/lib/python3.8/dist-packages/keras/engine/training.py\", line 1845, in predict_function  *\n        return step_function(self, iterator)\n    File \"/usr/local/lib/python3.8/dist-packages/keras/engine/training.py\", line 1834, in step_function  **\n        outputs = model.distribute_strategy.run(run_step, args=(data,))\n    File \"/usr/local/lib/python3.8/dist-packages/keras/engine/training.py\", line 1823, in run_step  **\n        outputs = model.predict_step(data)\n    File \"/usr/local/lib/python3.8/dist-packages/keras/engine/training.py\", line 1791, in predict_step\n        return self(x, training=False)\n    File \"/usr/local/lib/python3.8/dist-packages/keras/utils/traceback_utils.py\", line 67, in error_handler\n        raise e.with_traceback(filtered_tb) from None\n    File \"/usr/local/lib/python3.8/dist-packages/keras/engine/input_spec.py\", line 264, in assert_input_compatibility\n        raise ValueError(f'Input {input_index} of layer \"{layer_name}\" is '\n\n    ValueError: Input 0 of layer \"sequential\" is incompatible with the layer: expected shape=(None, 40), found shape=(1, 38)\n"
          ]
        }
      ],
      "source": [
        "sentiment = loaded_model.predict(tokenized_word,batch_size=1)[0]\n",
        "\n",
        "if(np.argmax(sentiment) == 0):\n",
        "    print(\"Not a hate speech,\", sentiment[0], 'sure')\n",
        "elif (np.argmax(sentiment) == 1):\n",
        "    print(\"Hate speech,\", sentiment[1], 'sure')"
      ]
    }
  ],
  "metadata": {
    "kernelspec": {
      "display_name": "Python 3 (ipykernel)",
      "language": "python",
      "name": "python3"
    },
    "language_info": {
      "codemirror_mode": {
        "name": "ipython",
        "version": 3
      },
      "file_extension": ".py",
      "mimetype": "text/x-python",
      "name": "python",
      "nbconvert_exporter": "python",
      "pygments_lexer": "ipython3",
      "version": "3.9.12"
    },
    "colab": {
      "provenance": [],
      "toc_visible": true
    }
  },
  "nbformat": 4,
  "nbformat_minor": 5
}